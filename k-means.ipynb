{
 "cells": [
  {
   "cell_type": "markdown",
   "metadata": {},
   "source": [
    "# K-means Analysis"
   ]
  },
  {
   "cell_type": "markdown",
   "metadata": {},
   "source": [
    "This project focuses on the implementation and evaluation of the k-means algorithm. It also includes an implementation of PCA to reduce dimensionality during preprocessing. The constructed algorithms are tested on two data sets. The first data set is gene expression data from cancer patients. The second is response data from an online version of the Depression and Anxiety Stress Scales (DASS). The algorithm's results are evaluated by plotting the clusters. The [GitHub repository](https://github.com/rhynerj/k_means_project) for this project includes as a Python file that can be run from the command line."
   ]
  },
  {
   "cell_type": "markdown",
   "metadata": {},
   "source": [
    "##### Imports"
   ]
  },
  {
   "cell_type": "code",
   "execution_count": 3,
   "metadata": {},
   "outputs": [],
   "source": [
    "import tarfile\n",
    "import zipfile\n",
    "import urllib\n",
    "import urllib.request\n",
    "import numpy as np\n",
    "from numpy.linalg import norm\n",
    "import matplotlib.pyplot as plt\n",
    "import random\n",
    "import argparse"
   ]
  },
  {
   "cell_type": "markdown",
   "metadata": {},
   "source": [
    "### Data Retrieval and Cleaning"
   ]
  },
  {
   "cell_type": "markdown",
   "metadata": {},
   "source": [
    "##### Download data from online repositories"
   ]
  },
  {
   "cell_type": "code",
   "execution_count": 4,
   "metadata": {},
   "outputs": [],
   "source": [
    "# retrieval function\n",
    "# downloads and unpacks a dataset\n",
    "# takes in url, archive, folder type\n",
    "def dataset_retrieve(url, archive, f_type) :\n",
    "\n",
    "    # url for downloading, from given url and archive\n",
    "    download_url = urllib.parse.urljoin(url, archive)\n",
    "\n",
    "    # download the archive\n",
    "    r = urllib.request.urlretrieve (download_url, archive)\n",
    "\n",
    "    if f_type == \"tar\" :\n",
    "        # unzip the archive\n",
    "        with tarfile.open(archive, 'r:gz') as opened_archive :\n",
    "             opened_archive.extractall()\n",
    "    elif f_type == \"zip\" :\n",
    "        # unzip the archive\n",
    "        with zipfile.ZipFile(archive, 'r') as opened_archive :\n",
    "             opened_archive.extractall()"
   ]
  },
  {
   "cell_type": "markdown",
   "metadata": {},
   "source": [
    "##### Gene Expression Cancer RNA-Seq Dataset"
   ]
  },
  {
   "cell_type": "markdown",
   "metadata": {},
   "source": [
    "* *Link:* [https://archive.ics.uci.edu/ml/machine-learning-databases/00401/](https://archive.ics.uci.edu/ml/machine-learning-databases/00401/)\n",
    "* *Description:* The dataset is comprised of a random extraction of gene expressions of patients with different types of tumors. The tumor types are: BRCA, KIRC, COAD, LUAD and PRAD. Each row represents a sample. RNA-Seq gene expression levels are represented as columns. A separate CSV file reveals the type of cancer associated with each sample.\n",
    "* *Portion used:* Due to the very high dimensionality of this dataset (20531 attributes), only the first 350 were included in testing."
   ]
  },
  {
   "cell_type": "code",
   "execution_count": 6,
   "metadata": {},
   "outputs": [],
   "source": [
    "# download and unpack the gene expression dataset as an array\n",
    "# set variables\n",
    "gene_url = \"https://archive.ics.uci.edu/ml/machine-learning-databases/00401/\"\n",
    "gene_archive = \"TCGA-PANCAN-HiSeq-801x20531.tar.gz\"\n",
    "gene_data_file = \"TCGA-PANCAN-HiSeq-801x20531/data.csv\"\n",
    "gene_delim = \",\"\n",
    "gene_upper_range = 350\n",
    "\n",
    "# download gene expression archive files and extract data\n",
    "dataset_retrieve(gene_url, gene_archive, \"tar\")\n",
    "gene_data_array = np.genfromtxt(gene_data_file, delimiter=gene_delim, usecols=range(1, gene_upper_range), skip_header=1)"
   ]
  },
  {
   "cell_type": "markdown",
   "metadata": {},
   "source": [
    "##### Depression and Anxiety Stress Scales Dataset"
   ]
  },
  {
   "cell_type": "markdown",
   "metadata": {},
   "source": [
    "* *Source:* [https://openpsychometrics.org/_rawdata/](https://openpsychometrics.org/_rawdata/)\n",
    "* *Description:* This dataset is made up of answers to an online version of the Depression Anxiety Stress Scales (DASS). Answers are given as a numerical value indicating position on a subjective scale from 1 to 4. Time spent on the landing page, the DASS questions, and the other demographic/survey questions was also recorded. The following generic demographic survey information is also included: Ten Item Personality Inventory scores (scale of 1 to 7), English vocabulary (1 for yes or 0 for no to indicate whether participants knew the definition of a word), and numerical codes for education level, childhood environment (e.g. urban), gender, whether native language is English, age, handedness, religion, sexual orientation, race, voting habits, marital status, and family size. College major is included as a write-in option. Finally, technical information was used to determine country, screen size, uniqueness of location, and source.\n",
    "* *Portion used:* All data for DASS questions (question answer, time taken to answer the question, and question position in survey) was included. Non-DASS data was excluded due to sparsity."
   ]
  },
  {
   "cell_type": "code",
   "execution_count": 24,
   "metadata": {},
   "outputs": [],
   "source": [
    "# downloads and unpacks the dass dataset as an array\n",
    "# set variables\n",
    " # set variables\n",
    "dass_url = \"https://openpsychometrics.org/_rawdata/\"\n",
    "dass_archive = \"DASS_data_21.02.19.zip\"\n",
    "dass_data_file = \"/home/jrhyner/Documents/CS2810/final_project/DASS_data_21.02.19/data.csv\"\n",
    "dass_delim = \"\\t\"\n",
    "dass_upper_range = 127 # 3 measurements for 42 questions -> 126\n",
    "\n",
    "# download DASS file and extract data\n",
    "dataset_retrieve(dass_url, dass_archive, \"zip\")\n",
    "dass_data_array = np.genfromtxt(dass_data_file, delimiter=dass_delim, usecols=range(1, dass_upper_range), skip_header=1, dtype=int)"
   ]
  },
  {
   "cell_type": "markdown",
   "metadata": {},
   "source": [
    "##### Minmaxscaling"
   ]
  },
  {
   "cell_type": "code",
   "execution_count": 8,
   "metadata": {},
   "outputs": [],
   "source": [
    "# normalizes given data using minmax scaling\n",
    "# takes in np array\n",
    "# modeled after MinMaxScaler() in sklearn\n",
    "def min_max_scale(data) :\n",
    "    # min and max values of data\n",
    "    data_max = np.max(data)\n",
    "    data_min = np.min(data)\n",
    "\n",
    "    # use min and max to scale data\n",
    "    scaled_data = np.array([(x - data_min) / (data_max - data_min) for x in data])\n",
    "\n",
    "    return scaled_data"
   ]
  },
  {
   "cell_type": "markdown",
   "metadata": {},
   "source": [
    "##### Principle Component Analysis"
   ]
  },
  {
   "cell_type": "code",
   "execution_count": 9,
   "metadata": {},
   "outputs": [],
   "source": [
    "# PCA: reduces the number of dimensions in the dataset\n",
    "# isolates the most variable components\n",
    "# takes in a dataset and a number of dimensions\n",
    "def pca(X, num_components) :\n",
    "    # subtract the mean of each variable to mean center data\n",
    "    X_meaned = X - np.mean(X , axis = 0)\n",
    "\n",
    "    # calculate covariance matrix (of meaned_data)\n",
    "    cov_mat = np.cov(X_meaned , rowvar = False)\n",
    "\n",
    "    # calculate eigenvalues and -vectors from covariance matrix\n",
    "    eigen_values , eigen_vectors = np.linalg.eigh(cov_mat)\n",
    "\n",
    "    # sort eigenvals and vects, accoring to descending eigenval\n",
    "    sorted_index = np.argsort(eigen_values)[::-1]\n",
    "    sorted_eigenvalue = eigen_values[sorted_index]\n",
    "    sorted_eigenvectors = eigen_vectors[:,sorted_index]\n",
    "\n",
    "    # get top n of eigenvects\n",
    "    eigenvector_subset = sorted_eigenvectors[:,0:num_components]\n",
    "\n",
    "    # transform data into reduced form\n",
    "    X_reduced = np.dot(eigenvector_subset.transpose() , X_meaned.transpose() ).transpose()\n",
    "     \n",
    "    return X_reduced"
   ]
  },
  {
   "cell_type": "markdown",
   "metadata": {},
   "source": [
    "##### Preprocessing"
   ]
  },
  {
   "cell_type": "code",
   "execution_count": 10,
   "metadata": {},
   "outputs": [],
   "source": [
    "# calls preprocessing steps on given data array\n",
    "# also takes in number of components, num_components, for PCA\n",
    "# returns processed data\n",
    "def preprocess(data, num_components) :\n",
    "    # scale data\n",
    "    scaled_data = min_max_scale(data)\n",
    "\n",
    "    # use PCA to reduce dimensions\n",
    "    reduced_data = pca(scaled_data, num_components)\n",
    "\n",
    "    # return preprocessed data\n",
    "    return reduced_data"
   ]
  },
  {
   "cell_type": "markdown",
   "metadata": {},
   "source": [
    "##### Data Cleaning"
   ]
  },
  {
   "cell_type": "code",
   "execution_count": 29,
   "metadata": {},
   "outputs": [],
   "source": [
    "# get the given data array and preprocess it\n",
    "# also takes in number of components for pca\n",
    "# returns pre-processed data\n",
    "def cleaned_data(dataset, pca_components) :\n",
    "    dataset = dataset.lower()\n",
    "    # get data array\n",
    "    if dataset == 'gene' :\n",
    "        data_array = gene_data_array\n",
    "    elif dataset == 'dass' :\n",
    "        data_array = dass_data_array\n",
    "    # preprocess: scale data and run pca\n",
    "    preprocessed_data = preprocess(data_array, pca_components)\n",
    "    return preprocessed_data"
   ]
  },
  {
   "cell_type": "markdown",
   "metadata": {},
   "source": [
    "### K-means"
   ]
  },
  {
   "cell_type": "code",
   "execution_count": 12,
   "metadata": {},
   "outputs": [],
   "source": [
    "# k-means class\n",
    "class k_means :\n",
    "    # init -> default max_loops is 100\n",
    "    def __init__(self, k, max_loop=100) :\n",
    "        self.k = k\n",
    "        self.max_loop = max_loop\n",
    "\n",
    "    # runs k_means (based on sklearn fit())\n",
    "    def fit(self, data) :\n",
    "        # initialize centroids\n",
    "        self.centroids = self.init_centroids(data)\n",
    "        # loop until reached max or centroids stop changing\n",
    "        looped = 0\n",
    "        same = False # centroids same as last time?\n",
    "        while looped < self.max_loop and not same :\n",
    "            # centroids at start of loop (from init or past loop)\n",
    "            start_centroids = self.centroids\n",
    "            distances = self.data_centroid_dists(data, start_centroids)\n",
    "            # sort into clusters\n",
    "            self.clusters = self.closest_dists(distances)\n",
    "            # update centroids\n",
    "            self.centroids = self.update_centroids(data, self.clusters)\n",
    "            # update conditions\n",
    "            same = np.array_equal(start_centroids, self.centroids)\n",
    "            looped += 1\n",
    "        # compute cluster stats\n",
    "        self.sse = self.inertia(data, self.clusters, self.centroids)\n",
    "        self.csizes = self.cluster_sizes(data)\n",
    "        \n",
    "\n",
    "    # initialize centroids\n",
    "    def init_centroids(self, data) :\n",
    "        num_rows = data.shape[0]\n",
    "        # randomly select k indices\n",
    "        rand_indices = np.random.choice(num_rows, size=self.k, replace=False)\n",
    "        # select k random rows from data \n",
    "        centroids_arr = data[rand_indices, :]\n",
    "        # set centroids\n",
    "        self.centroids = centroids_arr\n",
    "        return self.centroids\n",
    "    \n",
    "    # update centroids to be mean of data points\n",
    "    def update_centroids(self, data, clusters) :\n",
    "        # centroids array\n",
    "        centroids_arr = np.zeros((self.k, data.shape[1]))\n",
    "        for i in range(self.k) :\n",
    "            # set centroid k to mean\n",
    "            centroids_arr[i, :] = np.mean(data[clusters == i, :], axis=0)\n",
    "        return centroids_arr\n",
    "    \n",
    "    # takes in a distance array and returns minimums\n",
    "    def closest_dists(self, distance_arr) :\n",
    "        return np.argmin(distance_arr, axis=1)\n",
    "    \n",
    "    # calculates the distance from each data point to each centroid\n",
    "    def data_centroid_dists(self, data, centroid_arr) :\n",
    "        # array of distances\n",
    "        distance_arr = np.zeros((data.shape[0], self.k))\n",
    "        for i in range(self.k) :\n",
    "            # calculate norm of data - centroids\n",
    "            dp_norm = np.linalg.norm(data - centroid_arr[i, :], axis=1)\n",
    "            # insert square dist\n",
    "            distance_arr[:, i] = np.square(dp_norm)\n",
    "        # return results array\n",
    "        return distance_arr\n",
    "\n",
    "    # Cluster Stats\n",
    "\n",
    "    # finds sizes of each cluster\n",
    "    def cluster_sizes(self, data) :\n",
    "        # size array\n",
    "        size_arr = np.zeros((self.k))\n",
    "        # all clusters\n",
    "        clusters = self.clusters\n",
    "        for i in range(self.k) :\n",
    "            cluster_points = data[clusters == i]\n",
    "            cluster_size = cluster_points.shape[0]\n",
    "            size_arr[i] = cluster_size\n",
    "        return size_arr\n",
    "\n",
    "\n",
    "    # SSE\n",
    "    # find inertia (sse)\n",
    "    def inertia(self, data, clusters, centroids_arr) :\n",
    "        # distances array\n",
    "        dists_arr = np.zeros(data.shape[0])\n",
    "        for i in range(self.k) :\n",
    "            # clusterwise dists from centroid\n",
    "            dists_arr[clusters == i] = np.linalg.norm(data[clusters == i] - centroids_arr[i], axis=1)\n",
    "        # compute sse\n",
    "        sse = np.sum(np.square(dists_arr))\n",
    "        return sse"
   ]
  },
  {
   "cell_type": "markdown",
   "metadata": {},
   "source": [
    "### Evaluation and Visualization"
   ]
  },
  {
   "cell_type": "markdown",
   "metadata": {},
   "source": [
    "##### Elbow Curve"
   ]
  },
  {
   "cell_type": "code",
   "execution_count": 17,
   "metadata": {},
   "outputs": [],
   "source": [
    "# runs k-means with a given range of ks, calculates inertia (sse) for each\n",
    "# takes in data, max_k, max_loop\n",
    "# where max_k is the upperbound of ks to test\n",
    "# returns sses as k:sse dict\n",
    "def k_range_inertias(data, max_k, max_lp) :\n",
    "    # ks\n",
    "    k_list = list(range(1, max_k))\n",
    "    # sses\n",
    "    sse_list = []\n",
    "    # for each k in range, find inertia (sse) and add to list\n",
    "    for n in k_list :\n",
    "        km = k_means(k=n, max_loop=max_lp)\n",
    "        km.fit(data)\n",
    "        sse_list.append(km.sse)\n",
    "    return [k_list, sse_list]"
   ]
  },
  {
   "cell_type": "code",
   "execution_count": 18,
   "metadata": {},
   "outputs": [],
   "source": [
    "# finds sses for range of k up to max k\n",
    "# takes in data, max_k, max_loop\n",
    "def elbow_plot(data, max_k, max_loop) :\n",
    "    # find k_range_inertias\n",
    "        inertia_list = k_range_inertias(data, max_k, max_loop)\n",
    "        # extract ks for x-axis\n",
    "        k_vals = inertia_list[0]\n",
    "        # extract sses for y-axis\n",
    "        sses = inertia_list[1]\n",
    "        # plot sse over k\n",
    "        plt.figure(figsize=(6, 6))\n",
    "        plt.plot(k_vals, sses, '-o')\n",
    "        plt.xlabel(r\"Number of clusters *k*\")\n",
    "        plt.ylabel(\"Inertia (SSE)\")\n",
    "        # display results\n",
    "        plt.show()"
   ]
  },
  {
   "cell_type": "markdown",
   "metadata": {},
   "source": [
    "##### Cluster Plotting"
   ]
  },
  {
   "cell_type": "code",
   "execution_count": 13,
   "metadata": {},
   "outputs": [],
   "source": [
    "# randomly generate an n-length list of unique colors as rgb values\n",
    "def rand_colors(n) :\n",
    "    colors = []\n",
    "    while len(colors) < n :\n",
    "        color= \"#\"+''.join([random.choice('0123456789ABCDEF') for i in range(6)])\n",
    "        if color not in colors :\n",
    "            colors.append(color)\n",
    "    return colors"
   ]
  },
  {
   "cell_type": "code",
   "execution_count": 14,
   "metadata": {},
   "outputs": [],
   "source": [
    "# plots all clusters and their centroids with sizes\n",
    "# takes in data retrieval function, k, and max_loop and forces pca to 2 to allow plotting\n",
    "# also takes in x and y labels and title\n",
    "def plot_clusters(data_fn, k_val, max_lp, x_label, y_label, title) :\n",
    "    # clean data\n",
    "    data = cleaned_data(data_fn, 2)\n",
    "    # run k means\n",
    "    km = k_means(k_val, max_lp)\n",
    "    km.fit(data)\n",
    "    # get centroids\n",
    "    centroids = km.centroids\n",
    "    # get sse\n",
    "    sse = km.sse\n",
    "    # generate list of colors for k clusters and centroid\n",
    "    colors = rand_colors(k_val + 1)\n",
    "    # plot data and centroids\n",
    "    fig, ax = plt.subplots(figsize=(6, 6))\n",
    "    for i in range(0, k_val) :\n",
    "        color = colors[i]\n",
    "        cluster_label = 'cluster ' + str(i + 1) + ': size = ' + str(km.csizes[i])\n",
    "        plt.scatter(data[km.clusters == i, 0], data[km.clusters == i, 1], c=color, label=cluster_label)\n",
    "    plt.scatter(centroids[:, 0], centroids[:, 1], marker='*', s=300, c=colors[-1], label='centroid')\n",
    "    plt.legend()\n",
    "    plt.figtext(0.02, 0.02, 'sse = ' + str(sse), fontsize = 10)\n",
    "    plt.xlabel(x_label)\n",
    "    plt.ylabel(y_label)\n",
    "    plt.title(title)\n",
    "    ax.set_aspect('equal')\n",
    "    plt.show()"
   ]
  },
  {
   "cell_type": "markdown",
   "metadata": {},
   "source": [
    "### Results"
   ]
  },
  {
   "cell_type": "markdown",
   "metadata": {},
   "source": [
    "##### Gene Dataset"
   ]
  },
  {
   "cell_type": "markdown",
   "metadata": {},
   "source": [
    "Graphing inertia values for a range of k values applied to the gene dataset on an elbow curve reveals that the optimal for the dataset when reduced to two principal components is 4, as this is where the curve begins to level off."
   ]
  },
  {
   "cell_type": "code",
   "execution_count": 19,
   "metadata": {},
   "outputs": [
    {
     "data": {
      "image/png": "[encoded data removed]",
      "text/plain": [
       "<Figure size 432x432 with 1 Axes>"
      ]
     },
     "metadata": {
      "needs_background": "light"
     },
     "output_type": "display_data"
    }
   ],
   "source": [
    "# clean gene data for input and reduce to two principle components\n",
    "in_data = cleaned_data('gene', 2)\n",
    "# run the elbow_plot function with the cleaned data, a max_k of 10, and 100 as the max_loop\n",
    "elbow_plot(in_data, 10, 100)"
   ]
  },
  {
   "cell_type": "markdown",
   "metadata": {},
   "source": [
    "The inertia values are relatively high, indicating a large data spread. This can be seen when the data is plotted."
   ]
  },
  {
   "cell_type": "code",
   "execution_count": 46,
   "metadata": {},
   "outputs": [
    {
     "data": {
      "image/png": "[encoded data removed]",
      "text/plain": [
       "<Figure size 432x432 with 1 Axes>"
      ]
     },
     "metadata": {
      "needs_background": "light"
     },
     "output_type": "display_data"
    }
   ],
   "source": [
    "# run the plot_clusters function on the gene dataset with a k of 4 (based on the elbow plot), 100 as the max_loop, and x and y labels and title\n",
    "plot_clusters('gene', 4, 100, 'Component 1', 'Component 2', 'Gene Dataset K-means Clusters')"
   ]
  },
  {
   "cell_type": "markdown",
   "metadata": {},
   "source": [
    "The data for this dataset is fairly evenly distributed, with cluster sizes rangings from 136 to 300, though the inertia is on the higher end at about 27.18 (Note: because initial clusters are chosen randomly, this is not the only possible cluster configuration. However, it is both the most commmon and most evenly distributed one). Based on these clusters, PCA dimensionality reduction to to components retained the integrity of the gene dataset."
   ]
  },
  {
   "cell_type": "markdown",
   "metadata": {},
   "source": [
    "##### DASS Dataset"
   ]
  },
  {
   "cell_type": "markdown",
   "metadata": {},
   "source": [
    "Graphing inertia values for a range of k values applied to the DASS dataset on an elbow curve reveals that the optimal for the dataset when reduced to two principal components is 3, as this is where the curve begins to level off (with a k of two, the SSE was measured as less than 0.2)."
   ]
  },
  {
   "cell_type": "code",
   "execution_count": 25,
   "metadata": {},
   "outputs": [
    {
     "data": {
      "image/png": "[encoded data removed]",
      "text/plain": [
       "<Figure size 432x432 with 1 Axes>"
      ]
     },
     "metadata": {
      "needs_background": "light"
     },
     "output_type": "display_data"
    }
   ],
   "source": [
    "# clean dass data for input and reduce to two principle components\n",
    "in_data = cleaned_data('dass', 2)\n",
    "# run the elbow_plot function with the cleaned data, a max_k of 10, and 100 as the max_loop\n",
    "elbow_plot(in_data, 10, 100)"
   ]
  },
  {
   "cell_type": "markdown",
   "metadata": {},
   "source": [
    "The intertia values here are low, indicating a small data spread. Plotting the clusters revealed that the spread was not even. Running k-means on the reduced DASS dataset produced three very distinct clusters, but two of them contained only a single data point."
   ]
  },
  {
   "cell_type": "code",
   "execution_count": 31,
   "metadata": {},
   "outputs": [
    {
     "data": {
      "image/png": "[encoded data removed]",
      "text/plain": [
       "<Figure size 432x432 with 1 Axes>"
      ]
     },
     "metadata": {
      "needs_background": "light"
     },
     "output_type": "display_data"
    }
   ],
   "source": [
    "# run the plot_clusters function on the DASS dataset with a k of 3 (based on the elbow plot), 100 as the max_loop, and x and y labels and title\n",
    "plot_clusters('dass', 3, 100, 'Component 1', 'Component 2', 'DASS Dataset K-means Clusters')"
   ]
  },
  {
   "cell_type": "markdown",
   "metadata": {},
   "source": [
    "Inertia is low, but cluster sizes have a huge range, from 1 to 39,773. Increasing k to 10 does not produce more evenly sized clusters."
   ]
  },
  {
   "cell_type": "code",
   "execution_count": 44,
   "metadata": {},
   "outputs": [
    {
     "data": {
      "image/png": "[encoded data removed]",
      "text/plain": [
       "<Figure size 432x432 with 1 Axes>"
      ]
     },
     "metadata": {
      "needs_background": "light"
     },
     "output_type": "display_data"
    }
   ],
   "source": [
    "# plotting clusters with k=10\n",
    "plot_clusters('dass', 10, 100, 'Component 1', 'Component 2', 'DASS Dataset K-means Clusters')"
   ]
  },
  {
   "cell_type": "markdown",
   "metadata": {},
   "source": [
    "It is likely that the two distant data points are outliers. Further examination of the data might justify eliminating them, or increasing the number of principle components might reduce their effect. However, both of these are outside of the scope of this project, which is focused on evaluating the k-means algorithm."
   ]
  },
  {
   "cell_type": "markdown",
   "metadata": {},
   "source": [
    "### Conclusion"
   ]
  },
  {
   "cell_type": "markdown",
   "metadata": {},
   "source": [
    "K-means is very useful for clustering. However, due to runtime and memory limitations, it can often only be run when the dimensions of the data have been reduced, such as by using PCA. In this case, it was apparent that PCA is better at preserving some datasets than others, and that this affects the success of k-means.\n",
    "\n",
    "The reduced DASS dataset exposed a common issue with k-means: namely, it struggles with outliers. Even less extreme cases, k-means is less successful when data is not more or less evenly and distinctly clumped. However, it can fairly successfully distinguish between two adjacent clusters. Oddly shaped datasets (especially circular datasets) are not well suited to k-means clustering, but for most datasets that form clump-like clusters, k-means is a relatively simple and effective way to divide data into clusters for analysis."
   ]
  }
 ],
 "metadata": {
  "interpreter": {
   "hash": "a58e2eb03e8feac9d0b8a8bf100052c9c00b7ffa6c27c766fb86990cb97266ac"
  },
  "kernelspec": {
   "display_name": "Python 3.9.7 ('def-env')",
   "language": "python",
   "name": "python3"
  },
  "language_info": {
   "codemirror_mode": {
    "name": "ipython",
    "version": 3
   },
   "file_extension": ".py",
   "mimetype": "text/x-python",
   "name": "python",
   "nbconvert_exporter": "python",
   "pygments_lexer": "ipython3",
   "version": "3.9.7"
  },
  "orig_nbformat": 4
 },
 "nbformat": 4,
 "nbformat_minor": 2
}
